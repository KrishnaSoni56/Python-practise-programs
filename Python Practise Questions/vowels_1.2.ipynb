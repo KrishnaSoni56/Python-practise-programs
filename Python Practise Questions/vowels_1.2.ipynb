{
 "cells": [
  {
   "cell_type": "code",
   "execution_count": 2,
   "id": "05bca69e",
   "metadata": {},
   "outputs": [
    {
     "name": "stdout",
     "output_type": "stream",
     "text": [
      "Enter a string : - education qualification\n",
      "a= 3 \n",
      "e= 1 \n",
      "i= 4 \n",
      "o= 2 \n",
      "u= 2\n"
     ]
    }
   ],
   "source": [
    "vowel = input(\"Enter a string : - \")\n",
    "a=e=i=o=u=0\n",
    "for index in range(0,len(vowel)):\n",
    "    if(vowel[index] ==  \"a\"):\n",
    "        a+=1\n",
    "    elif(vowel[index] ==  \"e\"):\n",
    "        e+=1\n",
    "    elif(vowel[index] ==  \"i\"):\n",
    "        i+=1\n",
    "    elif(vowel[index] ==  \"o\"):\n",
    "        o+=1\n",
    "    elif(vowel[index] ==  \"u\"):\n",
    "        u+=1\n",
    "print(\"a=\",a,\"\\ne=\",e,\"\\ni=\",i,\"\\no=\",o,\"\\nu=\",u)"
   ]
  },
  {
   "cell_type": "code",
   "execution_count": null,
   "id": "c640b694",
   "metadata": {},
   "outputs": [],
   "source": []
  }
 ],
 "metadata": {
  "kernelspec": {
   "display_name": "Python 3 (ipykernel)",
   "language": "python",
   "name": "python3"
  },
  "language_info": {
   "codemirror_mode": {
    "name": "ipython",
    "version": 3
   },
   "file_extension": ".py",
   "mimetype": "text/x-python",
   "name": "python",
   "nbconvert_exporter": "python",
   "pygments_lexer": "ipython3",
   "version": "3.10.9"
  }
 },
 "nbformat": 4,
 "nbformat_minor": 5
}
