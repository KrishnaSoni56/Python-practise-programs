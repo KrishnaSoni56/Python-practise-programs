{
 "cells": [
  {
   "cell_type": "code",
   "execution_count": 4,
   "id": "00c904de",
   "metadata": {},
   "outputs": [
    {
     "name": "stdout",
     "output_type": "stream",
     "text": [
      "Enter a stringhello\n",
      "Input String is not palindrome\n"
     ]
    }
   ],
   "source": [
    "inputstr = input(\"Enter a string\")\n",
    "reversestr = \"\"\n",
    "for i in inputstr:\n",
    "    reversestr = i + reversestr\n",
    "\n",
    "if(reversestr == inputstr):\n",
    "        print(\"Input String is palindrome\")\n",
    "        \n",
    "else:\n",
    "        print(\"Input String is not palindrome\")\n",
    "    "
   ]
  },
  {
   "cell_type": "code",
   "execution_count": null,
   "id": "88799caa",
   "metadata": {},
   "outputs": [],
   "source": []
  },
  {
   "cell_type": "code",
   "execution_count": null,
   "id": "d254b770",
   "metadata": {},
   "outputs": [],
   "source": []
  }
 ],
 "metadata": {
  "kernelspec": {
   "display_name": "Python 3 (ipykernel)",
   "language": "python",
   "name": "python3"
  },
  "language_info": {
   "codemirror_mode": {
    "name": "ipython",
    "version": 3
   },
   "file_extension": ".py",
   "mimetype": "text/x-python",
   "name": "python",
   "nbconvert_exporter": "python",
   "pygments_lexer": "ipython3",
   "version": "3.10.9"
  }
 },
 "nbformat": 4,
 "nbformat_minor": 5
}
