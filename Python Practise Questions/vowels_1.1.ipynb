{
 "cells": [
  {
   "cell_type": "code",
   "execution_count": 5,
   "id": "6c3102a4",
   "metadata": {},
   "outputs": [
    {
     "name": "stdout",
     "output_type": "stream",
     "text": [
      "Enter a stringhi\n",
      "No. of vowels are :  1\n"
     ]
    }
   ],
   "source": [
    "strinput = input(\"Enter a string\")\n",
    "var = 0\n",
    "\n",
    "for i in strinput:\n",
    "    if (i == 'a' or i == 'e' or i == 'i' or i == 'o' or i == 'u' or i == 'A' or i == 'E' or i == 'I' or i == 'O' or i == 'U'  ):\n",
    "        var += 1\n",
    "    \n",
    "if var == 0 :\n",
    "    print(\"No Vowels\")\n",
    "else :\n",
    "    print(\"No. of vowels are : \",str(var))\n",
    "    "
   ]
  },
  {
   "cell_type": "code",
   "execution_count": null,
   "id": "597a31a8",
   "metadata": {},
   "outputs": [],
   "source": []
  }
 ],
 "metadata": {
  "kernelspec": {
   "display_name": "Python 3 (ipykernel)",
   "language": "python",
   "name": "python3"
  },
  "language_info": {
   "codemirror_mode": {
    "name": "ipython",
    "version": 3
   },
   "file_extension": ".py",
   "mimetype": "text/x-python",
   "name": "python",
   "nbconvert_exporter": "python",
   "pygments_lexer": "ipython3",
   "version": "3.10.9"
  }
 },
 "nbformat": 4,
 "nbformat_minor": 5
}
