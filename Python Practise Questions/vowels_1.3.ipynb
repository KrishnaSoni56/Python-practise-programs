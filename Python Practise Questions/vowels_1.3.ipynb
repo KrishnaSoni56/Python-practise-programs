{
 "cells": [
  {
   "cell_type": "code",
   "execution_count": 4,
   "id": "8a71405e",
   "metadata": {},
   "outputs": [
    {
     "name": "stdout",
     "output_type": "stream",
     "text": [
      "Enter a string : - krishna soni\n",
      "kr#shn# s#n#\n"
     ]
    }
   ],
   "source": [
    "vow = input(\"Enter a string : - \")\n",
    "for i in range(0,len(vow)):\n",
    "    if(vow[i] ==  \"a\" or vow[i] ==  \"e\" or  vow[i] ==  \"i\" or vow[i] ==  \"o\" or vow[i] ==  \"u\"):\n",
    "        vow= vow.replace(vow[i],\"#\")\n",
    "\n",
    "print(vow)\n",
    "        "
   ]
  },
  {
   "cell_type": "code",
   "execution_count": null,
   "id": "9a30d703",
   "metadata": {},
   "outputs": [],
   "source": []
  }
 ],
 "metadata": {
  "kernelspec": {
   "display_name": "Python 3 (ipykernel)",
   "language": "python",
   "name": "python3"
  },
  "language_info": {
   "codemirror_mode": {
    "name": "ipython",
    "version": 3
   },
   "file_extension": ".py",
   "mimetype": "text/x-python",
   "name": "python",
   "nbconvert_exporter": "python",
   "pygments_lexer": "ipython3",
   "version": "3.10.9"
  }
 },
 "nbformat": 4,
 "nbformat_minor": 5
}
